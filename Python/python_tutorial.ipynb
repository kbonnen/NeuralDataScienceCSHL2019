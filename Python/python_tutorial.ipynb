{
 "cells": [
  {
   "cell_type": "markdown",
   "metadata": {},
   "source": [
    "## Intro\n",
    "\n",
    "### Installation\n",
    "\n",
    "To get started with python, install Anaconda [python](https://www.anaconda.com/distribution/). This will come with many useful libraries for data analysis. Now if you're in **Windows**, open up an \"Anaconda prompt\" and you're good to go.\n",
    "\n",
    "If you're in **Linux** you'll want to make sure that your `~/.bashrc` profile points to Anaconda python, not the built in python (so when you open a terminal you're all set). Add the following lines to your `~/.bashrc` file if it's not there already (where `<user>` is your username):\n",
    "~~~\n",
    "export PATH=\"/home/<user>/anaconda3/bin:$PATH\"\n",
    "conda activate\n",
    "~~~\n",
    "\n",
    "If you're in **Mac**, here are detailed [instructions](https://www.datacamp.com/community/tutorials/installing-anaconda-mac-os-x). It should work out of the box in a terminal, but if not you may need to modify your `.bash_profile` like in Linux.\n",
    "\n",
    "\n",
    "### Packages and environments\n",
    "\n",
    "Anaconda has a package manager [**conda**](https://conda.io/en/latest/) that you can use to install packages. Here is a good [tutorial](https://conda.io/projects/conda/en/latest/user-guide/getting-started.html) if you want more info. To install a package say\n",
    "~~~\n",
    "conda install numpy\n",
    "~~~\n",
    "To upgrade to the latest version of a package say\n",
    "~~~\n",
    "conda install numpy --upgrade\n",
    "~~~\n",
    "\n",
    "Another package manager is `pip`, these are packages that are written only in python (see info [here](https://www.anaconda.com/understanding-conda-and-pip/)). Generally these will be packages that you find on github. I recommend using `conda` when available (e.g. for things like numpy or scikit-learn) because it makes sure that all dependencies are working. Dependencies are packages on which a package depends - most packages in data analysis will depend on the core packages like numpy and scipy.\n",
    "\n",
    "conda also allows you to create different **environments** for your code. This is different from matlab. In python, there are many packages with different versions that aren't always backward compatible. Therefore, you may write code that might not work quite the same way in a year or so with the latest packages. However, all python packages have **version** control, so you can specifically install an older package with\n",
    "~~~\n",
    "pip install suite2p==0.5.5\n",
    "~~~\n",
    "or\n",
    "~~~\n",
    "conda install numpy==1.13.0\n",
    "~~~\n",
    "\n",
    "You may therefore want different environments for different code packages. To create and activate an environment, you can say\n",
    "~~~\n",
    "conda create -n cshl\n",
    "conda activate cshl\n",
    "~~~\n",
    "\n",
    "Now you're in a new environment, you should see `(cshl)` on the left-hand side of your terminal. You can install packages here as you wish, and your `(base)` anaconda packages won't change. To see what packages are installed you can say\n",
    "~~~\n",
    "conda list\n",
    "~~~\n",
    "\n",
    "To close the environment, say\n",
    "~~~\n",
    "conda deactivate\n",
    "~~~\n",
    "\n",
    "Many packages that you might install from github come with `environment.yml` files to make an environment with the correct dependencies for you. Once in a folder which contains the `environment.yml`, run the following to create the environment:\n",
    "~~~\n",
    "conda env create -f environment.yml\n",
    "~~~\n",
    "The name of the environment will be in the .yml file, and conda will tell you it after it finishes creating it so you can then activate it.\n",
    "\n",
    "### Jupyter notebooks\n",
    "\n",
    "You want to start a notebook from the folder in which you want to create your notebooks, type the following to start it:\n",
    "~~~\n",
    "jupyter-notebook\n",
    "~~~\n",
    "\n",
    "Jupyter notebook is powered by `ipython`: interactive python\n",
    "\n",
    "A browser window should open with the address \"localhost:8888/tree\"\n",
    "\n",
    "To run a cell, go into that cell and click \"SHIFT+ENTER\". To make a new cell below, click \"ESC,b\".\n",
    "\n",
    "To install packages inside a jupyter notebook, you can use the \"!\" prefix:"
   ]
  },
  {
   "cell_type": "code",
   "execution_count": 1,
   "metadata": {},
   "outputs": [
    {
     "name": "stdout",
     "output_type": "stream",
     "text": [
      "Requirement already satisfied: rastermap in /home/neudata/anaconda3/envs/mouseland/lib/python3.7/site-packages (0.1.1)\n",
      "Collecting PyQt5.sip (from rastermap)\n",
      "  Using cached https://files.pythonhosted.org/packages/ec/7d/c8d2326c405cfed1858af83915fa02ba9e9722ae3e0343df0950fd900039/PyQt5_sip-4.19.18-cp37-cp37m-manylinux1_x86_64.whl\n",
      "Requirement already satisfied: PyQt5 in /home/neudata/anaconda3/envs/mouseland/lib/python3.7/site-packages (from rastermap) (5.13.0)\n",
      "Requirement already satisfied: scipy in /home/neudata/anaconda3/envs/mouseland/lib/python3.7/site-packages (from rastermap) (1.3.0)\n",
      "Requirement already satisfied: matplotlib in /home/neudata/anaconda3/envs/mouseland/lib/python3.7/site-packages (from rastermap) (3.1.1)\n",
      "Requirement already satisfied: natsort in /home/neudata/anaconda3/envs/mouseland/lib/python3.7/site-packages (from rastermap) (6.0.0)\n",
      "Requirement already satisfied: numba in /home/neudata/anaconda3/envs/mouseland/lib/python3.7/site-packages (from rastermap) (0.45.0)\n",
      "Requirement already satisfied: numpy>=1.13.0 in /home/neudata/anaconda3/envs/mouseland/lib/python3.7/site-packages (from rastermap) (1.16.4)\n",
      "Requirement already satisfied: pyqtgraph in /home/neudata/anaconda3/envs/mouseland/lib/python3.7/site-packages (from rastermap) (0.10.0)\n",
      "Requirement already satisfied: PyQt5_sip<13,>=4.19.14 in /home/neudata/anaconda3/envs/mouseland/lib/python3.7/site-packages (from PyQt5->rastermap) (4.19.18)\n",
      "Requirement already satisfied: python-dateutil>=2.1 in /home/neudata/anaconda3/envs/mouseland/lib/python3.7/site-packages (from matplotlib->rastermap) (2.8.0)\n",
      "Requirement already satisfied: cycler>=0.10 in /home/neudata/anaconda3/envs/mouseland/lib/python3.7/site-packages (from matplotlib->rastermap) (0.10.0)\n",
      "Requirement already satisfied: pyparsing!=2.0.4,!=2.1.2,!=2.1.6,>=2.0.1 in /home/neudata/anaconda3/envs/mouseland/lib/python3.7/site-packages (from matplotlib->rastermap) (2.4.0)\n",
      "Requirement already satisfied: kiwisolver>=1.0.1 in /home/neudata/anaconda3/envs/mouseland/lib/python3.7/site-packages (from matplotlib->rastermap) (1.1.0)\n",
      "Requirement already satisfied: llvmlite>=0.29.0dev0 in /home/neudata/anaconda3/envs/mouseland/lib/python3.7/site-packages (from numba->rastermap) (0.29.0)\n",
      "Requirement already satisfied: six>=1.5 in /home/neudata/anaconda3/envs/mouseland/lib/python3.7/site-packages (from python-dateutil>=2.1->matplotlib->rastermap) (1.12.0)\n",
      "Requirement already satisfied: setuptools in /home/neudata/anaconda3/envs/mouseland/lib/python3.7/site-packages (from kiwisolver>=1.0.1->matplotlib->rastermap) (41.0.1)\n",
      "Installing collected packages: PyQt5.sip\n",
      "Successfully installed PyQt5.sip\n"
     ]
    }
   ],
   "source": [
    "!pip install rastermap"
   ]
  },
  {
   "cell_type": "code",
   "execution_count": null,
   "metadata": {},
   "outputs": [],
   "source": [
    "x.shape"
   ]
  },
  {
   "cell_type": "markdown",
   "metadata": {},
   "source": [
    "Another prefix in notebooks is the \"%\" magic command. This allows you to set cells to certain settings (e.g. a %%BASH cell instead of a python cell, or %%time to time a cell). "
   ]
  },
  {
   "cell_type": "code",
   "execution_count": 7,
   "metadata": {},
   "outputs": [
    {
     "name": "stdout",
     "output_type": "stream",
     "text": [
      "CPU times: user 14 µs, sys: 2 µs, total: 16 µs\n",
      "Wall time: 17.9 µs\n"
     ]
    }
   ],
   "source": [
    "%%time\n",
    "import numpy as np\n",
    "\n",
    "x=np.random.random(100)"
   ]
  },
  {
   "cell_type": "markdown",
   "metadata": {},
   "source": [
    "There are other useful scripts, where the input is given with a space, e.g. %timeit, which runs a script many times to get timings."
   ]
  },
  {
   "cell_type": "code",
   "execution_count": 8,
   "metadata": {},
   "outputs": [
    {
     "name": "stdout",
     "output_type": "stream",
     "text": [
      "1.26 µs ± 1.82 ns per loop (mean ± std. dev. of 7 runs, 1000000 loops each)\n"
     ]
    }
   ],
   "source": [
    "import numpy as np\n",
    "%timeit np.random.random(100)"
   ]
  },
  {
   "cell_type": "markdown",
   "metadata": {},
   "source": [
    "### Functions\n",
    "\n",
    "To time lines in a function, use %prun. Function format in python:\n",
    "~~~\n",
    "def my_function(input, optional_input=50):\n",
    "    ...\n",
    "    return output1, output2\n",
    "~~~\n",
    "\n",
    "Python makes it easy to specify optional inputs for a function (with a given default value). When I call \"my_function\" I only need to specify \"input\". If \"optional_input\" is not specified then it is set to \"50\".\n",
    "\n",
    "Note python returns ALL outputs as a list if you specify only one output variable during declaration (unlike matlab)."
   ]
  },
  {
   "cell_type": "code",
   "execution_count": 11,
   "metadata": {},
   "outputs": [
    {
     "name": "stdout",
     "output_type": "stream",
     "text": [
      "500 500\n"
     ]
    }
   ],
   "source": [
    "def my_function(input, optional_input=50):\n",
    "    output1 = input * optional_input\n",
    "    output2 = optional_input * 10   \n",
    "    return output1, output2\n",
    "\n",
    "output1, output2 = my_function(10)\n",
    "output1,_ = my_function(1)\n",
    "\n",
    "print(outputs[0], outputs[1])"
   ]
  },
  {
   "cell_type": "code",
   "execution_count": 12,
   "metadata": {},
   "outputs": [
    {
     "data": {
      "text/plain": [
       "(500, 500)"
      ]
     },
     "execution_count": 12,
     "metadata": {},
     "output_type": "execute_result"
    }
   ],
   "source": [
    "outputs"
   ]
  },
  {
   "cell_type": "markdown",
   "metadata": {},
   "source": [
    "## Numpy (matrices in python)\n",
    "\n",
    "If you're familiar with matlab, then here's a [MATLAB TO NUMPY](http://mathesaurus.sourceforge.net/matlab-numpy.html) cheatsheet. The numpy [tutorial](https://docs.scipy.org/doc/numpy/user/quickstart.html) is also very good. \n",
    "\n",
    "The [indexing](https://docs.scipy.org/doc/numpy/user/quickstart.html#fancy-indexing-and-index-tricks) is a bit different so take note. Array indexing starts at ZERO and you can use negative numbers to go backwards. Run the following in a cell (CTRL+ENTER to run a cell):"
   ]
  },
  {
   "cell_type": "code",
   "execution_count": 17,
   "metadata": {},
   "outputs": [
    {
     "name": "stdout",
     "output_type": "stream",
     "text": [
      "[0 1 2 3 4 5 6 7 8 9]\n",
      "[0 1 2 3 4 5 6 7]\n",
      "[0 1 2 3 4 5 6 7]\n",
      "[0 2 4 6]\n",
      "[9 8 7 6 5 4 3 2 1 0]\n"
     ]
    }
   ],
   "source": [
    "import numpy as np\n",
    "\n",
    "x = np.arange(0,10) # [0:9]\n",
    "print(x)\n",
    "print(x[0:-2]) # same as x = x(1:end-2) in matlab\n",
    "print(x[:-2]) # omitting the 0 has the same effect\n",
    "print(x[:-2:2]) # take every second value\n",
    "print(x[::-1])\n"
   ]
  },
  {
   "cell_type": "code",
   "execution_count": 18,
   "metadata": {},
   "outputs": [
    {
     "name": "stdout",
     "output_type": "stream",
     "text": [
      "[2 3 4 5 6]\n"
     ]
    }
   ],
   "source": [
    "### EXERCISE\n",
    "# take the 3rd through 7th element of x and print it\n",
    "\n",
    "print(x[2:7])"
   ]
  },
  {
   "cell_type": "markdown",
   "metadata": {},
   "source": [
    "### Broadcasting\n",
    "\n",
    "Slices are these colon indices `1:10` and these can broadcast in 2D arrays, but lists of indices do NOT broadcast. In the example below I will also use matplotlib. See the magic \"%matplotlib inline\". This makes plots inline. \"%matplotlib notebook\" will make interactive plots which you can zoom into"
   ]
  },
  {
   "cell_type": "code",
   "execution_count": 21,
   "metadata": {},
   "outputs": [
    {
     "name": "stdout",
     "output_type": "stream",
     "text": [
      "[[0.95387119 0.49237066 0.09276193]\n",
      " [0.92878857 0.4107599  0.66089119]\n",
      " [0.23633342 0.09800409 0.3280541 ]]\n",
      "[0.95387119 0.4107599  0.3280541 ]\n",
      "[[0.95387119 0.49237066 0.09276193]\n",
      " [0.92878857 0.4107599  0.66089119]\n",
      " [0.23633342 0.09800409 0.3280541 ]]\n"
     ]
    }
   ],
   "source": [
    "import matplotlib.pyplot as plt\n",
    "%matplotlib inline\n",
    "\n",
    "# create uniform random numbers\n",
    "x = np.random.rand(50,50)\n",
    "\n",
    "# broadcasted indices (get a square)\n",
    "# imshow is like imagesc in matlab\n",
    "print(x[10:13, 10:13])\n",
    "\n",
    "# list of indices (get *10* numbers not a 10x10)!\n",
    "print(x[np.arange(10,13,1,int), np.arange(10,13,1,int)])\n",
    "\n",
    "# if you want to broadcast with a list you can use ix_ but this is SLOW so slices are preferred\n",
    "print(x[np.ix_( np.arange(10,13,1,int), np.arange(10,13,1,int) )])"
   ]
  },
  {
   "cell_type": "code",
   "execution_count": 22,
   "metadata": {},
   "outputs": [
    {
     "data": {
      "text/plain": [
       "<matplotlib.image.AxesImage at 0x7fb81fa2c9b0>"
      ]
     },
     "execution_count": 22,
     "metadata": {},
     "output_type": "execute_result"
    },
    {
     "data": {
      "image/png": "[encoded data removed]",
      "text/plain": [
       "<Figure size 1080x504 with 2 Axes>"
      ]
     },
     "metadata": {
      "needs_background": "light"
     },
     "output_type": "display_data"
    }
   ],
   "source": [
    "### EXERCISE\n",
    "# plot these two indexed matrices (which give the same result) in subplots\n",
    "\n",
    "# make a large plot\n",
    "fig = plt.figure(figsize=(15,7))\n",
    "\n",
    "# subplot 1 - index into x with slices\n",
    "ax1 = fig.add_subplot(1,2,1)\n",
    "ax1.imshow(x[10:13, 10:13])\n",
    "\n",
    "# subplot 2 - index into x with np.ix_\n",
    "ax2 = fig.add_subplot(1,2,2)\n",
    "ax2.imshow(x[np.ix_( np.arange(10,13,1,int), np.arange(10,13,1,int) )])"
   ]
  },
  {
   "cell_type": "markdown",
   "metadata": {},
   "source": [
    "Numpy also automatically broadcasts if last N indices are the same (it will add the first index itself). However, if you want to broadcast along the last indices, then you need to add new axes:"
   ]
  },
  {
   "cell_type": "code",
   "execution_count": 28,
   "metadata": {},
   "outputs": [
    {
     "name": "stdout",
     "output_type": "stream",
     "text": [
      "(50, 100) (100,) (50,)\n"
     ]
    },
    {
     "ename": "ValueError",
     "evalue": "operands could not be broadcast together with shapes (50,100) (50,) ",
     "output_type": "error",
     "traceback": [
      "\u001b[0;31m---------------------------------------------------------------------------\u001b[0m",
      "\u001b[0;31mValueError\u001b[0m                                Traceback (most recent call last)",
      "\u001b[0;32m<ipython-input-28-e1bc2b4ee2aa>\u001b[0m in \u001b[0;36m<module>\u001b[0;34m\u001b[0m\n\u001b[1;32m      8\u001b[0m \u001b[0;31m# x is 50x100 and np.mean(x, axis=1) is 50 long (LAST AXIS DOES NOT MATCH)\u001b[0m\u001b[0;34m\u001b[0m\u001b[0;34m\u001b[0m\u001b[0;34m\u001b[0m\u001b[0m\n\u001b[1;32m      9\u001b[0m \u001b[0;31m# add a new axis\u001b[0m\u001b[0;34m\u001b[0m\u001b[0;34m\u001b[0m\u001b[0;34m\u001b[0m\u001b[0m\n\u001b[0;32m---> 10\u001b[0;31m \u001b[0mx\u001b[0m \u001b[0;34m=\u001b[0m \u001b[0mx\u001b[0m \u001b[0;34m-\u001b[0m \u001b[0mnp\u001b[0m\u001b[0;34m.\u001b[0m\u001b[0mmean\u001b[0m\u001b[0;34m(\u001b[0m\u001b[0mx\u001b[0m\u001b[0;34m,\u001b[0m \u001b[0maxis\u001b[0m\u001b[0;34m=\u001b[0m\u001b[0;36m1\u001b[0m\u001b[0;34m)\u001b[0m\u001b[0;31m#[:,np.newaxis]\u001b[0m\u001b[0;34m\u001b[0m\u001b[0;34m\u001b[0m\u001b[0m\n\u001b[0m",
      "\u001b[0;31mValueError\u001b[0m: operands could not be broadcast together with shapes (50,100) (50,) "
     ]
    }
   ],
   "source": [
    "x = np.random.rand(50,100)\n",
    "\n",
    "print(x.shape, np.mean(x, axis=0).shape, np.mean(x, axis=1).shape)\n",
    "\n",
    "# x is 50x100 and np.mean(x, axis=0) is 100 long (LAST AXIS MATCHES)\n",
    "x = x - np.mean(x, axis=0)[np.newaxis,:]\n",
    "\n",
    "# x is 50x100 and np.mean(x, axis=1) is 50 long (LAST AXIS DOES NOT MATCH)\n",
    "# add a new axis\n",
    "x = x - np.mean(x, axis=1)#[:,np.newaxis]"
   ]
  },
  {
   "cell_type": "markdown",
   "metadata": {},
   "source": [
    "I did an \"inline\" operation to subtract, the following are equivalent:"
   ]
  },
  {
   "cell_type": "code",
   "execution_count": 27,
   "metadata": {},
   "outputs": [],
   "source": [
    "x = x - np.mean(x, axis=0)\n",
    "x -= np.mean(x, axis=0)"
   ]
  },
  {
   "cell_type": "markdown",
   "metadata": {},
   "source": [
    "### Classes\n",
    "\n",
    "Also, these numpy vectors/matrices are technically classes that have their OWN functions called methods, which you call with the `.` - this is different from matlab. So you can take the mean either way"
   ]
  },
  {
   "cell_type": "code",
   "execution_count": 29,
   "metadata": {
    "scrolled": true
   },
   "outputs": [
    {
     "name": "stdout",
     "output_type": "stream",
     "text": [
      "[ 2.88657986e-17 -6.66133815e-18 -8.88178420e-18  5.99520433e-17\n",
      "  2.10942375e-17 -3.33066907e-17  4.44089210e-18  4.21884749e-17\n",
      " -2.10942375e-17  1.24344979e-16]\n",
      "[ 2.88657986e-17 -6.66133815e-18 -8.88178420e-18  5.99520433e-17\n",
      "  2.10942375e-17 -3.33066907e-17  4.44089210e-18  4.21884749e-17\n",
      " -2.10942375e-17  1.24344979e-16]\n"
     ]
    }
   ],
   "source": [
    "xmean1 = np.mean(x, axis=0) # more matlab-y way\n",
    "xmean2 = x.mean(axis=0)\n",
    "print(xmean1[:10])\n",
    "print(xmean2[:10])"
   ]
  },
  {
   "cell_type": "markdown",
   "metadata": {},
   "source": [
    "You can see all the methods of an object with"
   ]
  },
  {
   "cell_type": "code",
   "execution_count": 32,
   "metadata": {},
   "outputs": [
    {
     "data": {
      "text/plain": [
       "array([ 1.44328993e-15, -3.33066907e-16, -4.44089210e-16,  2.99760217e-15,\n",
       "        1.05471187e-15, -1.66533454e-15,  2.22044605e-16,  2.10942375e-15,\n",
       "       -1.05471187e-15,  6.21724894e-15,  3.99680289e-15,  4.32986980e-15,\n",
       "        8.88178420e-15,  3.77475828e-15, -2.66453526e-15, -6.10622664e-15,\n",
       "        1.88737914e-15,  5.21804822e-15, -6.66133815e-16, -7.21644966e-15,\n",
       "        7.77156117e-15,  8.65973959e-15, -2.22044605e-15, -1.77635684e-15,\n",
       "        4.66293670e-15, -1.88737914e-15, -1.88737914e-15,  3.99680289e-15,\n",
       "       -8.88178420e-16,  1.06581410e-14, -1.88737914e-15,  9.43689571e-16,\n",
       "        6.55031585e-15, -1.49880108e-15,  3.88578059e-15,  1.33226763e-15,\n",
       "        4.32986980e-15,  3.77475828e-15, -5.32907052e-15, -4.10782519e-15,\n",
       "       -4.99600361e-15, -1.22124533e-15, -2.99760217e-15,  2.88657986e-15,\n",
       "       -4.44089210e-15,  6.32827124e-15, -5.44009282e-15, -5.55111512e-16,\n",
       "       -5.99520433e-15,  3.55271368e-15, -1.11022302e-16, -3.44169138e-15,\n",
       "       -8.21565038e-15,  4.55191440e-15,  1.11022302e-16, -6.32827124e-15,\n",
       "        7.27196081e-15,  1.94289029e-15,  3.71924713e-15,  2.99760217e-15,\n",
       "       -1.66533454e-15,  5.55111512e-16, -2.99760217e-15, -3.10862447e-15,\n",
       "       -2.44249065e-15,  1.88737914e-15,  6.21724894e-15,  1.99840144e-15,\n",
       "        1.88737914e-15, -1.22124533e-15, -2.33146835e-15,  2.99760217e-15,\n",
       "       -9.10382880e-15, -4.27435864e-15, -2.99760217e-15,  1.23234756e-14,\n",
       "        4.66293670e-15,  3.21964677e-15, -1.44328993e-15,  7.66053887e-15,\n",
       "       -7.99360578e-15,  2.77555756e-15, -3.66373598e-15,  7.21644966e-15,\n",
       "        5.21804822e-15,  5.99520433e-15, -2.22044605e-16, -1.22124533e-15,\n",
       "       -3.66373598e-15,  1.88737914e-15,  1.11022302e-16, -2.10942375e-15,\n",
       "       -4.10782519e-15,  6.21724894e-15, -7.43849426e-15, -5.10702591e-15,\n",
       "       -2.22044605e-15,  5.55111512e-16, -1.09912079e-14,  3.33066907e-15])"
      ]
     },
     "execution_count": 32,
     "metadata": {},
     "output_type": "execute_result"
    }
   ],
   "source": [
    "x.sum(axis=0)"
   ]
  },
  {
   "cell_type": "code",
   "execution_count": 35,
   "metadata": {},
   "outputs": [
    {
     "data": {
      "text/plain": [
       "2"
      ]
     },
     "execution_count": 35,
     "metadata": {},
     "output_type": "execute_result"
    }
   ],
   "source": [
    "# You can see all the attributes of an object with:\n",
    "x.ndim"
   ]
  },
  {
   "cell_type": "markdown",
   "metadata": {},
   "source": [
    "### Copying arrays\n",
    "\n",
    "Another thing to note for numpy matrices is that equal (`=`) does not allocate new memory unless you tell it to. Try the following code:"
   ]
  },
  {
   "cell_type": "code",
   "execution_count": 36,
   "metadata": {},
   "outputs": [
    {
     "name": "stdout",
     "output_type": "stream",
     "text": [
      "original: b[3] = 3\n",
      "after changing a: b[3] = 4\n"
     ]
    }
   ],
   "source": [
    "a = np.arange(0,10,1,int)\n",
    "b = a\n",
    "print('original: b[3] = %d'%b[3])\n",
    "a[3] = 4\n",
    "print('after changing a: b[3] = %d'%b[3])"
   ]
  },
  {
   "cell_type": "markdown",
   "metadata": {},
   "source": [
    "Changing `a` will change the value of `b`! Use `b = a.copy()` if you want to prevent this. "
   ]
  },
  {
   "cell_type": "code",
   "execution_count": 37,
   "metadata": {},
   "outputs": [
    {
     "name": "stdout",
     "output_type": "stream",
     "text": [
      "original: b[3] = 3\n",
      "after changing a: b[3] = 3\n"
     ]
    }
   ],
   "source": [
    "### EXERCISE\n",
    "# use the b = a.copy() command and change a. does b change?\n",
    "\n",
    "a = np.arange(0,10,1,int)\n",
    "\n",
    "b = a.copy()\n",
    "\n",
    "print('original: b[3] = %d'%b[3])\n",
    "a[3] = 4\n",
    "print('after changing a: b[3] = %d'%b[3])"
   ]
  },
  {
   "cell_type": "markdown",
   "metadata": {},
   "source": [
    "### Print statements\n",
    "\n",
    "Also, see how I made the print statement with a \"%\", this is like \"fprintf\" in matlab/C. There are different commands for different variable types:"
   ]
  },
  {
   "cell_type": "code",
   "execution_count": 38,
   "metadata": {},
   "outputs": [
    {
     "name": "stdout",
     "output_type": "stream",
     "text": [
      "for integers: 500\n",
      "for floats: 50.20\n",
      "for strings: hey peeps!\n",
      "hey peeps! what is 500 divided by 50.20?\n"
     ]
    }
   ],
   "source": [
    "print(\"for integers: %d\"%500)\n",
    "print(\"for floats: %2.2f\"%50.2)\n",
    "print(\"for strings: %s\"%'hey peeps!')\n",
    "print(\"%s what is %d divided by %2.2f?\"%('hey peeps!', 500, 50.2))"
   ]
  },
  {
   "cell_type": "code",
   "execution_count": null,
   "metadata": {},
   "outputs": [],
   "source": [
    "print(\"the answer is %2.2f\"%(500/50.2))"
   ]
  },
  {
   "cell_type": "markdown",
   "metadata": {},
   "source": [
    "### Multiplying vectors and matrices\n",
    "\n",
    "vector `v = np.array([1,-1])`\n",
    "\n",
    "array `A = np.array([[3,1],[0,2]])`\n",
    "\n",
    "scalar multiplication and division with `*` and `/`"
   ]
  },
  {
   "cell_type": "code",
   "execution_count": 40,
   "metadata": {},
   "outputs": [
    {
     "name": "stdout",
     "output_type": "stream",
     "text": [
      "[[3 1]\n",
      " [0 2]]\n",
      "[ 2 -2]\n"
     ]
    }
   ],
   "source": [
    "v = np.array([1,-1])\n",
    "A = np.array([[3,1], [0,2]])\n",
    "\n",
    "print(A)\n",
    "print(v * 2)"
   ]
  },
  {
   "cell_type": "markdown",
   "metadata": {},
   "source": [
    "To multiply two matrices or a matrix and a vector, use `np.matmul` or `@` (NOT `*`)"
   ]
  },
  {
   "cell_type": "code",
   "execution_count": 41,
   "metadata": {},
   "outputs": [
    {
     "name": "stdout",
     "output_type": "stream",
     "text": [
      "[ 2 -2]\n",
      "[ 2 -2]\n"
     ]
    }
   ],
   "source": [
    "v1 = np.matmul(A,v)\n",
    "v2 = A @ v\n",
    "\n",
    "print(v1)\n",
    "print(v2)"
   ]
  },
  {
   "cell_type": "markdown",
   "metadata": {},
   "source": [
    "To compute a dot product between two vectors use `@` or `np.dot` or `**2.sum()`"
   ]
  },
  {
   "cell_type": "code",
   "execution_count": 50,
   "metadata": {},
   "outputs": [
    {
     "name": "stdout",
     "output_type": "stream",
     "text": [
      "2\n",
      "2\n",
      "2\n"
     ]
    }
   ],
   "source": [
    "import numpy as np\n",
    "\n",
    "v = np.array([1,-1])\n",
    "\n",
    "print(v @ v)\n",
    "print(np.dot(v,v))\n",
    "# think about why this is the same:\n",
    "print((v**2).sum())"
   ]
  },
  {
   "cell_type": "markdown",
   "metadata": {},
   "source": [
    "Also compute $\\begin{bmatrix} -1 & 2 \\\\ 2 & -1 \\end{bmatrix} \\begin{bmatrix} 1 \\\\ -1 \\end{bmatrix}$\n",
    "and $\\begin{bmatrix} -1 & 2 \\\\ 2 & -1 \\end{bmatrix} \\begin{bmatrix} 1 \\\\ 1 \\end{bmatrix}$"
   ]
  },
  {
   "cell_type": "code",
   "execution_count": 47,
   "metadata": {},
   "outputs": [
    {
     "name": "stdout",
     "output_type": "stream",
     "text": [
      "[[-2  6]\n",
      " [ 4 -3]]\n"
     ]
    }
   ],
   "source": [
    "### EXERCISE compute the above matrix multiplications\n",
    "A = np.array([[-1,2],[2,-1]])\n",
    "v = np.array([2,3])\n",
    "\n",
    "vout = A * v\n",
    "print(vout)"
   ]
  },
  {
   "cell_type": "code",
   "execution_count": 48,
   "metadata": {},
   "outputs": [
    {
     "data": {
      "text/plain": [
       "(2, 2)"
      ]
     },
     "execution_count": 48,
     "metadata": {},
     "output_type": "execute_result"
    }
   ],
   "source": [
    "vout.shape"
   ]
  },
  {
   "cell_type": "markdown",
   "metadata": {},
   "source": [
    "### Loops\n",
    "\n",
    "\"for\" statements in python can iterate over anything - lists, numbers, strings. Here's an example for integers 0-9 (using `range(10)`)"
   ]
  },
  {
   "cell_type": "code",
   "execution_count": 54,
   "metadata": {},
   "outputs": [
    {
     "name": "stdout",
     "output_type": "stream",
     "text": [
      "[-3  3]\n",
      "[ 9 -9]\n",
      "[-27  27]\n",
      "[ 81 -81]\n",
      "[-243  243]\n",
      "[ 729 -729]\n",
      "[-2187  2187]\n",
      "[ 6561 -6561]\n",
      "[-19683  19683]\n",
      "[ 59049 -59049]\n",
      "[ 59049 -59049]\n"
     ]
    }
   ],
   "source": [
    "vout = v.copy()\n",
    "for i in range(10): # for i = 0:9\n",
    "    vout = A @ vout\n",
    "    print(vout)\n",
    "print(vout)"
   ]
  },
  {
   "cell_type": "markdown",
   "metadata": {},
   "source": [
    "Why is the output like that? What happened to `v` after being multiplied by `A` so many times? \n",
    "\n",
    "As an exercise write a for-loop to populate a vector with the eigenvalue associated with each `vout` above."
   ]
  },
  {
   "cell_type": "code",
   "execution_count": null,
   "metadata": {},
   "outputs": [],
   "source": [
    "### EXERCISE\n",
    "lam = np.zeros(10)   #~~~ empty vector of zeros\n",
    "for i in range(10):\n",
    "    vout = ??? #~~~ how much does vout change by?\n",
    "    lam[i] = ?"
   ]
  },
  {
   "cell_type": "markdown",
   "metadata": {},
   "source": [
    "### Other variable types\n",
    "\n",
    "dictionaries are like \"struct\" in matlab - they have keys with corresponding values. This is a useful way to save your data because it allows mixing of different variable types (you can save arrays, strings etc and they have their own labels).\n",
    "\n",
    "To define a dict and see what methods it has:"
   ]
  },
  {
   "cell_type": "code",
   "execution_count": 55,
   "metadata": {},
   "outputs": [
    {
     "name": "stdout",
     "output_type": "stream",
     "text": [
      "Help on dict object:\n",
      "\n",
      "class dict(object)\n",
      " |  dict() -> new empty dictionary\n",
      " |  dict(mapping) -> new dictionary initialized from a mapping object's\n",
      " |      (key, value) pairs\n",
      " |  dict(iterable) -> new dictionary initialized as if via:\n",
      " |      d = {}\n",
      " |      for k, v in iterable:\n",
      " |          d[k] = v\n",
      " |  dict(**kwargs) -> new dictionary initialized with the name=value pairs\n",
      " |      in the keyword argument list.  For example:  dict(one=1, two=2)\n",
      " |  \n",
      " |  Methods defined here:\n",
      " |  \n",
      " |  __contains__(self, key, /)\n",
      " |      True if the dictionary has the specified key, else False.\n",
      " |  \n",
      " |  __delitem__(self, key, /)\n",
      " |      Delete self[key].\n",
      " |  \n",
      " |  __eq__(self, value, /)\n",
      " |      Return self==value.\n",
      " |  \n",
      " |  __ge__(self, value, /)\n",
      " |      Return self>=value.\n",
      " |  \n",
      " |  __getattribute__(self, name, /)\n",
      " |      Return getattr(self, name).\n",
      " |  \n",
      " |  __getitem__(...)\n",
      " |      x.__getitem__(y) <==> x[y]\n",
      " |  \n",
      " |  __gt__(self, value, /)\n",
      " |      Return self>value.\n",
      " |  \n",
      " |  __init__(self, /, *args, **kwargs)\n",
      " |      Initialize self.  See help(type(self)) for accurate signature.\n",
      " |  \n",
      " |  __iter__(self, /)\n",
      " |      Implement iter(self).\n",
      " |  \n",
      " |  __le__(self, value, /)\n",
      " |      Return self<=value.\n",
      " |  \n",
      " |  __len__(self, /)\n",
      " |      Return len(self).\n",
      " |  \n",
      " |  __lt__(self, value, /)\n",
      " |      Return self<value.\n",
      " |  \n",
      " |  __ne__(self, value, /)\n",
      " |      Return self!=value.\n",
      " |  \n",
      " |  __repr__(self, /)\n",
      " |      Return repr(self).\n",
      " |  \n",
      " |  __setitem__(self, key, value, /)\n",
      " |      Set self[key] to value.\n",
      " |  \n",
      " |  __sizeof__(...)\n",
      " |      D.__sizeof__() -> size of D in memory, in bytes\n",
      " |  \n",
      " |  clear(...)\n",
      " |      D.clear() -> None.  Remove all items from D.\n",
      " |  \n",
      " |  copy(...)\n",
      " |      D.copy() -> a shallow copy of D\n",
      " |  \n",
      " |  get(self, key, default=None, /)\n",
      " |      Return the value for key if key is in the dictionary, else default.\n",
      " |  \n",
      " |  items(...)\n",
      " |      D.items() -> a set-like object providing a view on D's items\n",
      " |  \n",
      " |  keys(...)\n",
      " |      D.keys() -> a set-like object providing a view on D's keys\n",
      " |  \n",
      " |  pop(...)\n",
      " |      D.pop(k[,d]) -> v, remove specified key and return the corresponding value.\n",
      " |      If key is not found, d is returned if given, otherwise KeyError is raised\n",
      " |  \n",
      " |  popitem(...)\n",
      " |      D.popitem() -> (k, v), remove and return some (key, value) pair as a\n",
      " |      2-tuple; but raise KeyError if D is empty.\n",
      " |  \n",
      " |  setdefault(self, key, default=None, /)\n",
      " |      Insert key with a value of default if key is not in the dictionary.\n",
      " |      \n",
      " |      Return the value for key if key is in the dictionary, else default.\n",
      " |  \n",
      " |  update(...)\n",
      " |      D.update([E, ]**F) -> None.  Update D from dict/iterable E and F.\n",
      " |      If E is present and has a .keys() method, then does:  for k in E: D[k] = E[k]\n",
      " |      If E is present and lacks a .keys() method, then does:  for k, v in E: D[k] = v\n",
      " |      In either case, this is followed by: for k in F:  D[k] = F[k]\n",
      " |  \n",
      " |  values(...)\n",
      " |      D.values() -> an object providing a view on D's values\n",
      " |  \n",
      " |  ----------------------------------------------------------------------\n",
      " |  Class methods defined here:\n",
      " |  \n",
      " |  fromkeys(iterable, value=None, /) from builtins.type\n",
      " |      Create a new dictionary with keys from iterable and values set to value.\n",
      " |  \n",
      " |  ----------------------------------------------------------------------\n",
      " |  Static methods defined here:\n",
      " |  \n",
      " |  __new__(*args, **kwargs) from builtins.type\n",
      " |      Create and return a new object.  See help(type) for accurate signature.\n",
      " |  \n",
      " |  ----------------------------------------------------------------------\n",
      " |  Data and other attributes defined here:\n",
      " |  \n",
      " |  __hash__ = None\n",
      "\n"
     ]
    }
   ],
   "source": [
    "dat = {'spks': x, 'matrix': A, 'mouse_name': 'fred'}\n",
    "\n",
    "help(dat)"
   ]
  },
  {
   "cell_type": "markdown",
   "metadata": {},
   "source": [
    "The most important method is `.keys()` - this returns the keys of the dict. To access these keys you type in the string as below:"
   ]
  },
  {
   "cell_type": "code",
   "execution_count": null,
   "metadata": {},
   "outputs": [],
   "source": [
    "print(dat.keys())\n",
    "\n",
    "print(dat['matrix'])"
   ]
  },
  {
   "cell_type": "code",
   "execution_count": null,
   "metadata": {},
   "outputs": [],
   "source": [
    "# save a dictionary\n",
    "np.save('mydict.npy', dat)\n",
    "\n",
    "# load a dictionary\n",
    "datl = np.load('mydict.npy', allow_pickle=True).item()"
   ]
  },
  {
   "cell_type": "markdown",
   "metadata": {},
   "source": [
    "# Plotting\n",
    "\n",
    "We have similar options as matlab for plotting in `pyplot`, which we import as `plt`:"
   ]
  },
  {
   "cell_type": "code",
   "execution_count": 56,
   "metadata": {},
   "outputs": [
    {
     "data": {
      "image/png": "[encoded data removed]",
      "text/plain": [
       "<Figure size 432x288 with 1 Axes>"
      ]
     },
     "metadata": {
      "needs_background": "light"
     },
     "output_type": "display_data"
    }
   ],
   "source": [
    "import matplotlib.pyplot as plt\n",
    "\n",
    "x = np.random.rand(100)\n",
    "\n",
    "plt.plot(x)\n",
    "plt.show()"
   ]
  },
  {
   "cell_type": "code",
   "execution_count": 57,
   "metadata": {},
   "outputs": [
    {
     "data": {
      "image/png": "[encoded data removed]",
      "text/plain": [
       "<Figure size 1080x1080 with 1 Axes>"
      ]
     },
     "metadata": {
      "needs_background": "light"
     },
     "output_type": "display_data"
    }
   ],
   "source": [
    "### EXERCISE\n",
    "# label the y axis of the plot\n",
    "# change the color to your favorite color\n",
    "\n",
    "plt.rcParams.update({'font.size': 16}) # change default font size\n",
    "\n",
    "fig = plt.figure(figsize=(15,15))\n",
    "\n",
    "ax = fig.add_subplot(1,1,1)\n",
    "ax.plot(x, linewidth=4, color=[1,.5,.3])\n",
    "# put a label on the plot\n",
    "ax.set_xlabel('time (s)')\n",
    "ax.set_ylabel('y')\n",
    "# like box off\n",
    "ax.spines['right'].set_visible(False)\n",
    "ax.spines['top'].set_visible(False)\n",
    "plt.show()"
   ]
  },
  {
   "cell_type": "markdown",
   "metadata": {},
   "source": [
    "# Libraries for scientific computing\n",
    "\n",
    "You can find substitutes for all the packages in matlab, here are some examples:\n",
    "\n",
    "- **matplotlib** is HUGE, there are many useful functions for plotting\n",
    "- **numpy.linalg** this has `solve` for $x = A^{-1} b$ type problems\n",
    "- **scipy.ndimage** for image processing and filtering\n",
    "- **opencv** for more image processing functions\n",
    "- **scipy.stats** for stats functions, includes `zscore`, `skew` and `wilcoxon`\n",
    "- **scipy.optimize** to minimize cost functions\n",
    "- **numpy.fft** for fourier transform computations\n",
    "    - if you need a faster library, try **mkl_fft** (installed with anaconda)\n",
    "- **numba** (advanced) can speed up loops and/or element-wise operations\n",
    "\n",
    "Check out the [scipy](https://docs.scipy.org/doc/scipy/reference/tutorial/) tutorial for more details.\n",
    "\n",
    "Deep learning libraries:\n",
    "- **tensorflow** flexible library from google\n",
    "- **keras** is an easier front-end to **tensorflow**\n",
    "- **pytorch** is easy to use (don't need a front-end) from facebook\n",
    "- **mxnet** is from amazon, has similar syntax to pytorch\n",
    "\n",
    "Pandas is another popular library that is like EXCEL, it allows you to create data structures with multiple variable types and allows basic manipulation/regression/plotting. For neural data I would not recommend this approach - I would recommend making your data a numpy array."
   ]
  }
 ],
 "metadata": {
  "kernelspec": {
   "display_name": "Python 3",
   "language": "python",
   "name": "python3"
  },
  "language_info": {
   "codemirror_mode": {
    "name": "ipython",
    "version": 3
   },
   "file_extension": ".py",
   "mimetype": "text/x-python",
   "name": "python",
   "nbconvert_exporter": "python",
   "pygments_lexer": "ipython3",
   "version": "3.7.3"
  }
 },
 "nbformat": 4,
 "nbformat_minor": 2
}
