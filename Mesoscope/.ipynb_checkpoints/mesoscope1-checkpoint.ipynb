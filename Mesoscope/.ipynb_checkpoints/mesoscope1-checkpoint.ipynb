{
 "cells": [
  {
   "cell_type": "markdown",
   "metadata": {},
   "source": [
    "?  =  variable name, possibly with indexing/slicing  \n",
    "??? = function / class name  \n",
    "?????? = complex expression containing variables, functions etc  \n",
    "???B??? = complex expression that must contain \"B\"  "
   ]
  },
  {
   "cell_type": "markdown",
   "metadata": {},
   "source": [
    "# What to do with 10,000 simultaneous neurons?  "
   ]
  },
  {
   "cell_type": "markdown",
   "metadata": {},
   "source": [
    "# Section 1. Loading and preparing. "
   ]
  },
  {
   "cell_type": "markdown",
   "metadata": {},
   "source": [
    "### 1.0 Load in the Python libraries"
   ]
  },
  {
   "cell_type": "code",
   "execution_count": null,
   "metadata": {},
   "outputs": [],
   "source": [
    "import os # os stands for \"operating system\" and includes read/write routines etc. \n",
    "import numpy as np # by far the most used library for everyday computation\n",
    "from matplotlib import pyplot as plt # plotting functions. second most important library.\n",
    "%matplotlib inline \n",
    "\n",
    "# scipy is an \"expansion\" of numpy with more specialized functions\n",
    "from scipy import stats # here we import a sub-library of stats functions\n",
    "from ???.??? import ??? # here we import gaussian_filter\n",
    "\n",
    "# sklearn is the \"machine learning\" library. Has lots of good stuff. Try to find PCA \n",
    "from sklearn.??? import ???"
   ]
  },
  {
   "cell_type": "code",
   "execution_count": null,
   "metadata": {},
   "outputs": [],
   "source": [
    "# let's inspect the function we imported\n",
    "gaussian_filter"
   ]
  },
  {
   "cell_type": "code",
   "execution_count": null,
   "metadata": {},
   "outputs": [],
   "source": [
    "# more info about this function\n",
    "gaussian_filter?"
   ]
  },
  {
   "cell_type": "code",
   "execution_count": null,
   "metadata": {},
   "outputs": [],
   "source": [
    "# anything else we imported you want to inspect here?"
   ]
  },
  {
   "cell_type": "code",
   "execution_count": null,
   "metadata": {},
   "outputs": [],
   "source": []
  },
  {
   "cell_type": "markdown",
   "metadata": {},
   "source": [
    "### 1.1 Load the metadata"
   ]
  },
  {
   "cell_type": "code",
   "execution_count": null,
   "metadata": {},
   "outputs": [],
   "source": [
    "# this cell loads Suite2p configuration file \"ops\", and stimulus information (mov, iframe)\n",
    "mname, datexp, blk = 'TX39', '2019_05_31', '1' # this assignment works! \n",
    "\n",
    "root      = '/home/neuraldata/data/meso'\n",
    "mov       = np.load(os.path.join(root, 'mov.npy')) # mov contains the sparse noise frames\n",
    "iframe    = np.load(os.path.join(root, 'iframe.npy')) # iframe[n] is the microscope frame for the image frame n\n",
    "\n",
    "# ops is a \"pickled\" dictionary, not just an array\n",
    "ops = np.load(os.path.join(root, 'suite2p', 'combined', 'ops.npy'), allow_pickle=True).item() "
   ]
  },
  {
   "cell_type": "code",
   "execution_count": null,
   "metadata": {},
   "outputs": [],
   "source": [
    "# dictionaries have \"keys\". Figure out how to list the keys. \n",
    "ops.???"
   ]
  },
  {
   "cell_type": "code",
   "execution_count": null,
   "metadata": {},
   "outputs": [],
   "source": [
    "%matplotlib notebook # if you need to zoom into a figure, this is the \"interactive\" mode of matplotlib\n",
    "# you cannot go back and forth twice between interactive and inline modes (restart nootebook instead)\n",
    "\n",
    "# display the maximum projection image from ops. You need to access ops like a dictionary. \n",
    "plt.figure(figsize=(8,8))\n",
    "plt.imshow(???) "
   ]
  },
  {
   "cell_type": "code",
   "execution_count": null,
   "metadata": {},
   "outputs": [],
   "source": [
    "# now let's adjust this plot. \n",
    "# Set the saturation of the image to 5000, the colormap to gray, and the aspect ratio to \"auto\"\n",
    "plt.figure(figsize=(8,8))\n",
    "plt.imshow(???, ???=5000, ??? = 'gray', ??? ='auto') "
   ]
  },
  {
   "cell_type": "code",
   "execution_count": null,
   "metadata": {},
   "outputs": [],
   "source": []
  },
  {
   "cell_type": "markdown",
   "metadata": {},
   "source": [
    "### 1.2 Load the neural data"
   ]
  },
  {
   "cell_type": "code",
   "execution_count": null,
   "metadata": {},
   "outputs": [],
   "source": [
    "spks = np.load(os.path.join(root, 'suite2p', 'combined', 'spks.npy'))\n",
    "stat = np.load(os.path.join(root, 'suite2p', 'combined', 'stat.npy'), allow_pickle=True)\n",
    "\n",
    "ypos = [stat[k]['med'][0] for k in range(len(stat))] # this is equivalent to a for loop, but written more succintly\n",
    "xpos = [stat[k]['med'][1] for k in range(len(stat))]\n",
    "\n",
    "# ypos, xpos are Python \"lists\". Before we can operate on them, they should be converted to Numpy \"arrays\".\n",
    "ypos, xpos = np.???(ypos), np.???(xpos)\n",
    "\n",
    "ypos, xpos = ypos/.5, xpos/.75 # this recording had 0.5 pixels/um in Y and 0.75 pixels/um in X\n",
    "\n",
    "print('total neurons %d'%len(stat))\n",
    "print('recorded from an area of %2.2f um by %2.2f um'%(np.ptp(ypos), np.ptp(xpos)))"
   ]
  },
  {
   "cell_type": "code",
   "execution_count": null,
   "metadata": {},
   "outputs": [],
   "source": [
    "# make a \"scatter plot\" overlaid on top of the image in the cell above. \n",
    "# because we are in notebook mode, this will plot to the last interactive plot\n",
    "plt.???(xpos*.75, ypos*.5) "
   ]
  },
  {
   "cell_type": "code",
   "execution_count": null,
   "metadata": {},
   "outputs": [],
   "source": [
    "# switch back to inline plots so we can make them bigger\n",
    "%matplotlib inline"
   ]
  },
  {
   "cell_type": "code",
   "execution_count": null,
   "metadata": {},
   "outputs": [],
   "source": []
  },
  {
   "cell_type": "markdown",
   "metadata": {},
   "source": [
    "### 1.3 By the end of this section you should have spks, Timeline, xpos, ypos in your workspace. \n",
    "Try to explore the contents of these variables, for example:"
   ]
  },
  {
   "cell_type": "code",
   "execution_count": null,
   "metadata": {},
   "outputs": [],
   "source": [
    "print(stat[0].keys())"
   ]
  },
  {
   "cell_type": "code",
   "execution_count": null,
   "metadata": {},
   "outputs": [],
   "source": [
    "print(np.min(ypos), np.max(ypos), np.min(xpos), np.max(xpos))"
   ]
  },
  {
   "cell_type": "code",
   "execution_count": null,
   "metadata": {},
   "outputs": [],
   "source": [
    "# use this empty cell to determine how many timepoints are in the dataset, and how many images have been presented \n",
    "print(?.shape)"
   ]
  },
  {
   "cell_type": "code",
   "execution_count": null,
   "metadata": {},
   "outputs": [],
   "source": []
  },
  {
   "cell_type": "markdown",
   "metadata": {},
   "source": [
    "# Section 2. Plotting and visualizing the data"
   ]
  },
  {
   "cell_type": "code",
   "execution_count": null,
   "metadata": {},
   "outputs": [],
   "source": [
    "# POSITIONS OF ALL NEURONS\n",
    "plt.scatter(xpos, -ypos, s = 1) # note we have to invert the Ypos\n",
    "plt.xlabel('X position (um)', fontsize=20) # this is how you make axis labels\n",
    "plt.ylabel('Y position (um)', fontsize=20) \n",
    "plt.axis('square') # make both axes the same size\n",
    "plt.show() # when you are done"
   ]
  },
  {
   "cell_type": "code",
   "execution_count": null,
   "metadata": {},
   "outputs": [],
   "source": [
    "# display movie frame 100\n",
    "plt.imshow(?, cmap='gray')\n",
    "plt.title('example frame') # without plt show, the result of the last command is displayed"
   ]
  },
  {
   "cell_type": "code",
   "execution_count": null,
   "metadata": {},
   "outputs": [],
   "source": [
    "dt     = 1 # time offset between stimulus and neural activity (don't change)\n",
    "ivalid = iframe+dt<spks.shape[-1] # remove timepoints that fall after the neural recording ended\n",
    "iframe = iframe[ivalid] \n",
    "mov = mov[:, :, ivalid]\n",
    "\n",
    "# subsample the neural timepoints corresponding to these movie frames\n",
    "S   = spks[:, ?+?]\n",
    "\n",
    "# z-score the neural activity before doing anything. axis specifies the dimension. \n",
    "S = stats.zscore(S, axis=1) "
   ]
  },
  {
   "cell_type": "code",
   "execution_count": null,
   "metadata": {
    "scrolled": false
   },
   "outputs": [],
   "source": [
    "plt.figure(figsize=(16,6))\n",
    "# display the first 100 neurons and the first 500 timepoints from S\n",
    "plt.imshow(?, vmax = 3, vmin = -3, aspect='auto', cmap = 'gray')\n",
    "plt.title('sample of the neural data matrix')\n",
    "plt.ylabel('neurons') \n",
    "plt.xlabel('time points')"
   ]
  },
  {
   "cell_type": "code",
   "execution_count": null,
   "metadata": {},
   "outputs": [],
   "source": []
  },
  {
   "cell_type": "markdown",
   "metadata": {},
   "source": [
    "# Section 3. Receptive fields  (ON - OFF)"
   ]
  },
  {
   "cell_type": "markdown",
   "metadata": {},
   "source": [
    "### 3.1 First, compute ordinary ON - OFF receptive fields"
   ]
  },
  {
   "cell_type": "code",
   "execution_count": null,
   "metadata": {},
   "outputs": [],
   "source": [
    "nn     = 8867\n",
    "NN, NT = S.shape \n",
    "S0     = S[nn, :]\n",
    "\n",
    "X = np.reshape(mov, [-1, NT]) # reshape to Npixels by Ntimepoints. -1 means the dimension is automatically inferred. \n",
    "X = X-0.5 # subtract the gray level\n",
    "X = ???.???(?, axis=1) # z-score X along axis 1\n",
    "X = X / NT**.5  # normalize Xto unit norm. \n",
    "npix = X.shape[0]\n",
    "\n",
    "B0 = X @ S0 # stimulus triggered receptive field for one neuron\n",
    "# reshape B0 into the vertical and horizontal dimensions of mov\n",
    "B0 = np.reshape(B0, [?, ?])"
   ]
  },
  {
   "cell_type": "code",
   "execution_count": null,
   "metadata": {},
   "outputs": [],
   "source": [
    "plt.figure(figsize=(16,3))\n",
    "plt.subplot(1,2,1)\n",
    "# plot the receptive field for each neuron. Use a \"blue, white, red\" colormap\n",
    "plt.imshow(B0, aspect='auto', vmin=-12, vmax=12, cmap = '???') \n",
    "plt.title('raw')\n",
    "\n",
    "plt.subplot(1,2,2)\n",
    "B1 = ???(B0, [.5, .5]) # smooth each receptive field a little\n",
    "plt.imshow(B1, aspect='auto', vmin=-12, vmax=12, cmap = '???') # plot the receptive field for each neuron\n",
    "plt.title('smoothed')\n",
    "plt.show()"
   ]
  },
  {
   "cell_type": "code",
   "execution_count": null,
   "metadata": {},
   "outputs": [],
   "source": [
    "# go back above and take the absolute value of X after subtracting the gray level\n",
    " X = np.?(X) # take the absolute value of X"
   ]
  },
  {
   "cell_type": "code",
   "execution_count": null,
   "metadata": {},
   "outputs": [],
   "source": []
  },
  {
   "cell_type": "markdown",
   "metadata": {},
   "source": [
    "### 3.2 Receptive fields for all neurons"
   ]
  },
  {
   "cell_type": "code",
   "execution_count": null,
   "metadata": {},
   "outputs": [],
   "source": [
    "NN, NT = S.shape \n",
    "\n",
    "# compute X as before\n",
    "X = np.reshape(mov, [-1, NT]) # reshape to Npixels by Ntimepoints\n",
    "X = X-0.5 # subtract the gray level\n",
    "X = stats.zscore(X, axis=1)/NT**.5  # z-score each pixel separately\n",
    "npix = X.shape[0]\n",
    "\n",
    "\n",
    "B0 = X @ S.T # get the receptive fields for each neuron        \n",
    "B0 = np.reshape(B0, [mov.shape[0], mov.shape[1], NN])\n",
    "# smooth each receptive field by 0.5 gaussian standard deviation along horizontal and vertical dimension\n",
    "# smooth by 0 gaussian standard deviation along the neurons dimension. \n",
    "B0 = gaussian_filter(B0, [?, ?, ?]) \n",
    "\n",
    "B00 = B0 # make a copy of B0 for later"
   ]
  },
  {
   "cell_type": "code",
   "execution_count": null,
   "metadata": {},
   "outputs": [],
   "source": [
    "# create a figure of vertiical size 18 and horizontal size 10.\n",
    "???.???(???=(?, ?))\n",
    "np.random.seed(1) # set the seed for the random number generator, so that our random samples are reproducible\n",
    "rperm = np.random.permutation(NN) # choose a randomly permuted set of neurons\n",
    "\n",
    "isort = rperm\n",
    "#isort = np.argsort(np.min(B0, axis=(0,1))) # try this one next! \n",
    "#isort = np.argsort(np.max(B0, axis=(0,1)))[::-1] # this is how we get a \"descending\" sort\n",
    "\n",
    "# now sort by the (max - min) range of each receptive field\n",
    "#isort = np.argsort(??????)[::-1]\n",
    "\n",
    "for j in range(8*7):\n",
    "    plt.subplot(8,7,j+1)\n",
    "    # show the receptive field for unit isort[j]\n",
    "    plt.imshow(?, aspect='auto', vmin=-6, vmax=6, cmap = 'bwr') # plot the receptive field for each neuron\n",
    "    plt.axis('off')\n",
    "    \n",
    "plt.show()"
   ]
  },
  {
   "cell_type": "code",
   "execution_count": null,
   "metadata": {},
   "outputs": [],
   "source": []
  },
  {
   "cell_type": "markdown",
   "metadata": {},
   "source": [
    "# Section 4. Receptive fields (ON + OFF)"
   ]
  },
  {
   "cell_type": "markdown",
   "metadata": {},
   "source": [
    "### 4.1 Do the neurons care about contrast SIGN ?"
   ]
  },
  {
   "cell_type": "code",
   "execution_count": null,
   "metadata": {},
   "outputs": [],
   "source": [
    "# like before, but with the absolute value\n",
    "X = np.reshape(mov, [-1, NT]) # reshape to Npixels by Ntimepoints\n",
    "X = X-0.5 # does not matter if a pixel is black (0) or white (1)\n",
    "X = np.abs(X) # response is the same for ON and OFF squares\n",
    "X = stats.zscore(X, axis=1)/NT**.5  # z-score each pixel separately\n",
    "\n",
    "B0 = X @ S.T # get the receptive fields for each neuron\n",
    "\n",
    "B0 = np.reshape(B0, [mov.shape[0], mov.shape[1], -1])\n",
    "B0 = gaussian_filter(B0, [.5, .5, 0]) # smooth each receptive field a little"
   ]
  },
  {
   "cell_type": "code",
   "execution_count": null,
   "metadata": {},
   "outputs": [],
   "source": [
    "plt.figure(figsize=(18, 10))\n",
    "# how do we make sure we get the same random sample of neurons as before?\n",
    "???.???.???(?)\n",
    "rperm = np.random.permutation(NN) # choose a randomly permuted set of neurons\n",
    "\n",
    "isort = rperm\n",
    "#isort = np.argsort(np.min(B0, axis=(0,1)))\n",
    "#isort = np.argsort(np.max(B0, axis=(0,1)))[::-1]\n",
    "#isort = np.argsort(???)[::-1]\n",
    "\n",
    "for j in range(7*8):\n",
    "    plt.subplot(8,7,j+1)\n",
    "    plt.imshow(?, aspect='auto', vmin=-6, vmax=6, cmap = 'bwr') # plot the receptive field for each neuron\n",
    "    plt.axis('off')\n",
    "    \n",
    "plt.show()"
   ]
  },
  {
   "cell_type": "markdown",
   "metadata": {},
   "source": [
    "### 4.2 Let's average the ON+OFF receptive fields over groups of neurons"
   ]
  },
  {
   "cell_type": "code",
   "execution_count": null,
   "metadata": {},
   "outputs": [],
   "source": [
    "sig = 50 # average neurons within this distance\n",
    "B = np.zeros(B0.shape)\n",
    "for j in range(NN):\n",
    "    # for each neuron, let's find all others within sig distance in um\n",
    "    ds = (ypos[j] - ?)**2 + (xpos[j] - ?)**2\n",
    "    ix = ds**.5 < sig\n",
    "    B[:,:,j] = np.mean(?, axis=-1) # average receptive fields of ix=True neurons\n",
    "    \n",
    "Amax = ???B??? # compute the maximum response of each neuron"
   ]
  },
  {
   "cell_type": "code",
   "execution_count": null,
   "metadata": {},
   "outputs": [],
   "source": [
    "plt.figure(figsize=(18, 10))\n",
    "np.random.seed(1) # set the seed for the random number generator, so that our random samples are reproducible\n",
    "rperm = np.random.permutation(NN) # choose a random set of neurons\n",
    "\n",
    "for j in range(7*7):\n",
    "    plt.subplot(7,7,j+1)\n",
    "    plt.imshow(B[:,:,rperm[j]], aspect='auto', vmin=-3, vmax=3, cmap = 'bwr') # plot the receptive field for each neuron\n",
    "    plt.axis('off')\n",
    "    \n",
    "plt.show()"
   ]
  },
  {
   "cell_type": "markdown",
   "metadata": {},
   "source": [
    "### 4.3 Finally, let's display the retinotopy over the recording area"
   ]
  },
  {
   "cell_type": "code",
   "execution_count": null,
   "metadata": {},
   "outputs": [],
   "source": [
    "imax = np.argmax(np.reshape(B, [-1,NN]), axis=0) # find the pixel corresponding to the max response for each cell\n",
    "ly, lx, nstim = ?.??? # get the dimensions of the stimulus\n",
    "\n",
    "# use \"unravel_index\" to go from a linear index imax to a two-dimensional index (ymax,xmax)\n",
    "ymax, xmax = ???imax??? # unravel an index for a (1,ly*lx) array, to two indices for an (ly, lx) array\n",
    "xmax = np.???(17, ?) # threshold xmax at 17 (middle of the screen)\n",
    "\n",
    "plt.figure(figsize=(12,6))\n",
    "\n",
    "plt.subplot(1,2,1, facecolor= ?) # figure background should be black\n",
    "plt.scatter(xpos, -ypos, s = ?, c = ?, cmap='viridis') \n",
    "# dot size should be proportional to max response Amax times a factor\n",
    "# the dot color should be determined by the preferred horizontal position\n",
    "plt.title('Horizontal')\n",
    "\n",
    "plt.subplot(1,2,2, facecolor=?) # figure background should be black\n",
    "plt.scatter(xpos, -ypos, s = ?, c = ?, cmap='viridis') \n",
    "# same as above for preferred vertical position\n",
    "plt.title('Vertical')\n",
    "\n",
    "plt.tight_layout()\n",
    "\n",
    "plt.show()"
   ]
  },
  {
   "cell_type": "code",
   "execution_count": null,
   "metadata": {},
   "outputs": [],
   "source": []
  }
 ],
 "metadata": {
  "kernelspec": {
   "display_name": "Python 3",
   "language": "python",
   "name": "python3"
  },
  "language_info": {
   "codemirror_mode": {
    "name": "ipython",
    "version": 3
   },
   "file_extension": ".py",
   "mimetype": "text/x-python",
   "name": "python",
   "nbconvert_exporter": "python",
   "pygments_lexer": "ipython3",
   "version": "3.7.3"
  },
  "latex_envs": {
   "LaTeX_envs_menu_present": true,
   "autoclose": false,
   "autocomplete": true,
   "bibliofile": "biblio.bib",
   "cite_by": "apalike",
   "current_citInitial": 1,
   "eqLabelWithNumbers": true,
   "eqNumInitial": 1,
   "hotkeys": {
    "equation": "Ctrl-E",
    "itemize": "Ctrl-I"
   },
   "labels_anchors": false,
   "latex_user_defs": false,
   "report_style_numbering": false,
   "user_envs_cfg": false
  },
  "varInspector": {
   "cols": {
    "lenName": 16,
    "lenType": 16,
    "lenVar": 40
   },
   "kernels_config": {
    "python": {
     "delete_cmd_postfix": "",
     "delete_cmd_prefix": "del ",
     "library": "var_list.py",
     "varRefreshCmd": "print(var_dic_list())"
    },
    "r": {
     "delete_cmd_postfix": ") ",
     "delete_cmd_prefix": "rm(",
     "library": "var_list.r",
     "varRefreshCmd": "cat(var_dic_list()) "
    }
   },
   "position": {
    "height": "908px",
    "left": "1679px",
    "right": "20px",
    "top": "112px",
    "width": "479px"
   },
   "types_to_exclude": [
    "module",
    "function",
    "builtin_function_or_method",
    "instance",
    "_Feature"
   ],
   "window_display": true
  }
 },
 "nbformat": 4,
 "nbformat_minor": 2
}
